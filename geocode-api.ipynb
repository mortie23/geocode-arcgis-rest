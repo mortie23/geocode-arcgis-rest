{
 "cells": [
  {
   "cell_type": "markdown",
   "metadata": {},
   "source": [
    "# Calling free ArcGIS Geocode API\n",
    "\n",
    "```sh\n",
    "pip3 install requests\n",
    "```"
   ]
  },
  {
   "cell_type": "code",
   "execution_count": 1,
   "metadata": {},
   "outputs": [],
   "source": [
    "import requests"
   ]
  },
  {
   "cell_type": "code",
   "execution_count": 2,
   "metadata": {},
   "outputs": [
    {
     "output_type": "stream",
     "name": "stdout",
     "text": "x: 149.0338825380011 y: -35.35163875665678\n"
    }
   ],
   "source": [
    "## API-endpoint \n",
    "url = \"http://geocode.arcgis.com/arcgis/rest/services/World/GeocodeServer/findAddressCandidates\"\n",
    "  \n",
    "## Location given here \n",
    "location = \"Rivett, ACT, 2611, Australia\"\n",
    "  \n",
    "# defining a params dict for the parameters to be sent to the API \n",
    "params = {\"SingleLine\": location, \"outFields\": \"*\",  \"f\":\"pjson\"}\n",
    "  \n",
    "## Sending GET request and saving the response as response object\n",
    "r = requests.get(url = url, params = params) \n",
    "# HTTP response 200\n",
    "# print(r)\n",
    "\n",
    "# Extracting data in json format \n",
    "data = r.json() \n",
    "## Printing the output \n",
    "# print(data)\n",
    "\n",
    "# Extract latitude, longitude\n",
    "x = data['candidates'][0]['location']['x'] \n",
    "y = data['candidates'][0]['location']['y'] \n",
    "\n",
    "print(\"x:\", x, \"y:\", y)\n"
   ]
  },
  {
   "cell_type": "code",
   "execution_count": null,
   "metadata": {},
   "outputs": [],
   "source": []
  }
 ],
 "metadata": {
  "language_info": {
   "codemirror_mode": {
    "name": "ipython",
    "version": 3
   },
   "file_extension": ".py",
   "mimetype": "text/x-python",
   "name": "python",
   "nbconvert_exporter": "python",
   "pygments_lexer": "ipython3",
   "version": "3.6.9-final"
  },
  "orig_nbformat": 2,
  "kernelspec": {
   "name": "python36964bite8bb320fe19c451f8dd7edcd0f4d1be1",
   "display_name": "Python 3.6.9 64-bit"
  }
 },
 "nbformat": 4,
 "nbformat_minor": 2
}